{
  "cells": [
    {
      "cell_type": "markdown",
      "metadata": {
        "id": "MqtorkWcZf71"
      },
      "source": [
        "# Module 6: Numerical Python (NumPy)\n",
        "\n",
        "## What is NumPy?\n",
        "\n",
        "- A library of pre-built functions + data objects\n",
        "\n",
        "\n",
        "- Underlying code has been optimized for speed of computation\n",
        "\n",
        "\n",
        "- NumPy eliminates the need to implement iterative control flow statements for arithmetic operations on array elements. So code is easier to read + maintain.\n",
        "\n",
        "\n",
        "- Mostly used for processing arrays of numerical data\n",
        "\n",
        "\n",
        "- Most scientific + data analytics software packages availble for use within Python were built using components of NumPy (e.g., Pandas, scikit-learn, etc.)\n",
        "\n",
        "\n",
        "## ndarray: A Multi-dimensional Array Object\n",
        "\n",
        "- NumPy's most important data object/type\n",
        "\n",
        "\n",
        "- 'n dimensional array' = ndarray\n",
        "\n",
        "\n",
        "- ndarrays can be of any dimensionality, e.g., uni-dimensional, bi-dimensional, tri-dimensional, etc..\n",
        "\n",
        "\n",
        "- Unlike Python lists, elements of NumPy arrays are __always__ of the same data type.\n",
        "\n",
        "\n",
        "Some simple examples with a uni-dimensional array:\n"
      ]
    },
    {
      "cell_type": "code",
      "execution_count": null,
      "metadata": {
        "id": "WQcpMn7yZf7_",
        "outputId": "090e68bd-5200-4f72-d5d4-9d9ff3068a97"
      },
      "outputs": [
        {
          "data": {
            "text/plain": [
              "array([1, 2, 3, 4, 5])"
            ]
          },
          "execution_count": 1,
          "metadata": {},
          "output_type": "execute_result"
        }
      ],
      "source": [
        "# load the numpy library into your Python environment\n",
        "import numpy as np\n",
        "\n",
        "# create a 1-D array: pass a list of items to np.array()\n",
        "simple = np.array([1, 2, 3, 4, 5])\n",
        "simple"
      ]
    },
    {
      "cell_type": "code",
      "execution_count": null,
      "metadata": {
        "id": "WmWmi9jFZf8C",
        "outputId": "9c0cfaab-4a70-43f4-b64a-47887731aeb4"
      },
      "outputs": [
        {
          "data": {
            "text/plain": [
              "numpy.ndarray"
            ]
          },
          "execution_count": 3,
          "metadata": {},
          "output_type": "execute_result"
        }
      ],
      "source": [
        "# check type of new object\n",
        "type(simple)"
      ]
    },
    {
      "cell_type": "code",
      "execution_count": null,
      "metadata": {
        "id": "JhbeVfstZf8D",
        "outputId": "99dbf111-baa0-42cd-c3a8-96f968c756a3"
      },
      "outputs": [
        {
          "data": {
            "text/plain": [
              "3"
            ]
          },
          "execution_count": 4,
          "metadata": {},
          "output_type": "execute_result"
        }
      ],
      "source": [
        "# indices in a 1D array work the same way as a list\n",
        "simple[2]"
      ]
    },
    {
      "cell_type": "code",
      "execution_count": null,
      "metadata": {
        "id": "7WERsq5eZf8D",
        "outputId": "f5bd3d6e-7422-4ce6-b787-44dba5ff0989"
      },
      "outputs": [
        {
          "data": {
            "text/plain": [
              "array([  1,   2,   3,   4, 101])"
            ]
          },
          "execution_count": 5,
          "metadata": {},
          "output_type": "execute_result"
        }
      ],
      "source": [
        "# update a value within a 1D array\n",
        "simple[4] = 101\n",
        "simple"
      ]
    },
    {
      "cell_type": "code",
      "execution_count": null,
      "metadata": {
        "id": "KMbBU5eMZf8E",
        "outputId": "9c497dbe-d9c1-48b6-c096-759a9c48fbac"
      },
      "outputs": [
        {
          "data": {
            "text/plain": [
              "array([1, 2, 3, 4, 5])"
            ]
          },
          "execution_count": 6,
          "metadata": {},
          "output_type": "execute_result"
        }
      ],
      "source": [
        "# elements must be same data type\n",
        "# e.g., adding a float to an int array yields and int\n",
        "simple[4] = 5.2\n",
        "simple"
      ]
    },
    {
      "cell_type": "code",
      "execution_count": null,
      "metadata": {
        "id": "yxvWxSncZf8F",
        "outputId": "3382790c-bd62-4870-9e3d-d701771dee01"
      },
      "outputs": [
        {
          "data": {
            "text/plain": [
              "array([3, 4, 5])"
            ]
          },
          "execution_count": 7,
          "metadata": {},
          "output_type": "execute_result"
        }
      ],
      "source": [
        "# use slicing to get a subset of a 1D array\n",
        "simple[2:5]"
      ]
    },
    {
      "cell_type": "code",
      "execution_count": null,
      "metadata": {
        "id": "zeNC3VM7Zf8G",
        "outputId": "26a8e30e-0cf4-42b1-ac73-5571375245bb"
      },
      "outputs": [
        {
          "data": {
            "text/plain": [
              "array([ 0,  1,  2,  3,  4,  5,  6,  7,  8,  9, 10, 11, 12, 13, 14, 15])"
            ]
          },
          "execution_count": 8,
          "metadata": {},
          "output_type": "execute_result"
        }
      ],
      "source": [
        "# automatically create a 1D array containing a sequence of values\n",
        "# note that 'arange' creates an ndarray, NOT a list\n",
        "np.arange(0, 16)"
      ]
    },
    {
      "cell_type": "markdown",
      "metadata": {
        "id": "jULNQt-fZf8H"
      },
      "source": [
        "### Multi-dimensional NumPy Arrays\n",
        "\n",
        "The most common form of a multi-dimensional array is a \"2D array\" having m number of rows and n number of columns (i.e., \"__m x n__\")"
      ]
    },
    {
      "cell_type": "code",
      "execution_count": null,
      "metadata": {
        "id": "YpHQaFEXZf8H",
        "outputId": "287895ff-9116-46e8-9fab-762e2891b732"
      },
      "outputs": [
        {
          "data": {
            "text/plain": [
              "array([[-0.78837496,  0.4196049 ,  0.02168693,  0.41523792,  1.2478209 ],\n",
              "       [ 0.2897301 , -0.42972632,  1.95534125, -1.24928316, -0.44094488],\n",
              "       [ 0.53868387,  0.07463815, -1.61606097,  0.06512262, -0.49991499],\n",
              "       [-0.05861105,  0.52470005, -0.79160738,  1.03017106, -0.66064693]])"
            ]
          },
          "execution_count": 20,
          "metadata": {},
          "output_type": "execute_result"
        }
      ],
      "source": [
        "# Create a 4x5 array filled with random data sampled from a normal distribution\n",
        "data = np.random.randn(4, 5)\n",
        "data"
      ]
    },
    {
      "cell_type": "code",
      "execution_count": null,
      "metadata": {
        "id": "iQuCutOPZf8I",
        "outputId": "5581f11a-1b3b-46d2-97c9-4e39fdc9f5da"
      },
      "outputs": [
        {
          "data": {
            "text/plain": [
              "array([[ -7.88374959,   4.19604899,   0.21686929,   4.15237917,\n",
              "         12.47820901],\n",
              "       [  2.89730095,  -4.29726319,  19.55341253, -12.49283159,\n",
              "         -4.40944885],\n",
              "       [  5.38683871,   0.74638148, -16.1606097 ,   0.65122622,\n",
              "         -4.99914994],\n",
              "       [ -0.58611047,   5.24700052,  -7.9160738 ,  10.30171055,\n",
              "         -6.60646932]])"
            ]
          },
          "execution_count": 21,
          "metadata": {},
          "output_type": "execute_result"
        }
      ],
      "source": [
        "# scale the entire array by a factor of 10\n",
        "data * 10"
      ]
    },
    {
      "cell_type": "code",
      "execution_count": null,
      "metadata": {
        "id": "WverULWFZf8I",
        "outputId": "9e94a929-10f9-497e-b119-db96dc53ff5f"
      },
      "outputs": [
        {
          "data": {
            "text/plain": [
              "array([[-1.57674992,  0.8392098 ,  0.04337386,  0.83047583,  2.4956418 ],\n",
              "       [ 0.57946019, -0.85945264,  3.91068251, -2.49856632, -0.88188977],\n",
              "       [ 1.07736774,  0.1492763 , -3.23212194,  0.13024524, -0.99982999],\n",
              "       [-0.11722209,  1.0494001 , -1.58321476,  2.06034211, -1.32129386]])"
            ]
          },
          "execution_count": 22,
          "metadata": {},
          "output_type": "execute_result"
        }
      ],
      "source": [
        "# add 2 arrays of same dimensions\n",
        "data + data"
      ]
    },
    {
      "cell_type": "code",
      "execution_count": null,
      "metadata": {
        "id": "TGJ2A_ABZf8J",
        "outputId": "610fe08d-8f26-42f7-a449-d5319b9869de"
      },
      "outputs": [
        {
          "name": "stdout",
          "output_type": "stream",
          "text": [
            "2\n",
            "(4, 5)\n",
            "float64\n"
          ]
        }
      ],
      "source": [
        "# check the dimensionality of an ndarray object\n",
        "print(data.ndim)\n",
        "\n",
        "# check the shape of an ndarray object\n",
        "print(data.shape)\n",
        "\n",
        "# check the data type of the elements of the ndarray\n",
        "print(data.dtype)"
      ]
    },
    {
      "cell_type": "code",
      "execution_count": null,
      "metadata": {
        "id": "KGVqgbTjZf8K",
        "outputId": "deb54fb6-9f8d-4e82-fe86-469ec7db75aa"
      },
      "outputs": [
        {
          "data": {
            "text/plain": [
              "array([[0., 0., 0., 0., 0., 0.],\n",
              "       [0., 0., 0., 0., 0., 0.],\n",
              "       [0., 0., 0., 0., 0., 0.]])"
            ]
          },
          "execution_count": 13,
          "metadata": {},
          "output_type": "execute_result"
        }
      ],
      "source": [
        "# init an array to all zeroes\n",
        "np.zeros((3, 6))"
      ]
    },
    {
      "cell_type": "code",
      "execution_count": null,
      "metadata": {
        "id": "IK3-bo41Zf8K",
        "outputId": "f5eadc4b-ec97-4891-f40a-ef8994700be3"
      },
      "outputs": [
        {
          "data": {
            "text/plain": [
              "array([[1., 1., 1., 1., 1., 1.],\n",
              "       [1., 1., 1., 1., 1., 1.],\n",
              "       [1., 1., 1., 1., 1., 1.]])"
            ]
          },
          "execution_count": 14,
          "metadata": {},
          "output_type": "execute_result"
        }
      ],
      "source": [
        "# init an array to all ones\n",
        "np.ones((3,6))"
      ]
    },
    {
      "cell_type": "code",
      "execution_count": null,
      "metadata": {
        "id": "lrwg0_QKZf8K",
        "outputId": "b285062e-d683-4db0-bccc-7d0aec662a1c"
      },
      "outputs": [
        {
          "data": {
            "text/plain": [
              "array([[1., 0., 0., 0., 0.],\n",
              "       [0., 1., 0., 0., 0.],\n",
              "       [0., 0., 1., 0., 0.],\n",
              "       [0., 0., 0., 1., 0.],\n",
              "       [0., 0., 0., 0., 1.]])"
            ]
          },
          "execution_count": 15,
          "metadata": {},
          "output_type": "execute_result"
        }
      ],
      "source": [
        "# create a square identity matrix (linear algebra)\n",
        "np.identity(5)"
      ]
    },
    {
      "cell_type": "code",
      "execution_count": null,
      "metadata": {
        "id": "Pw07BjR0Zf8L",
        "outputId": "2fc69b86-f139-42c7-ca86-31226a54e388"
      },
      "outputs": [
        {
          "data": {
            "text/plain": [
              "array([[[0., 0.],\n",
              "        [0., 0.],\n",
              "        [0., 0.]],\n",
              "\n",
              "       [[0., 0.],\n",
              "        [0., 0.],\n",
              "        [0., 0.]]])"
            ]
          },
          "execution_count": 3,
          "metadata": {},
          "output_type": "execute_result"
        }
      ],
      "source": [
        "# init an empty array comprised of 2 3x2 arrays\n",
        "np.empty((2, 3, 2))"
      ]
    },
    {
      "cell_type": "code",
      "execution_count": null,
      "metadata": {
        "id": "-ZkxlsFxZf8L",
        "outputId": "9e53ce7d-e4dc-4cca-86c0-dba9e7fca84b"
      },
      "outputs": [
        {
          "data": {
            "text/plain": [
              "array([[ 0,  1,  2,  3],\n",
              "       [ 4,  5,  6,  7],\n",
              "       [ 8,  9, 10, 11]])"
            ]
          },
          "execution_count": 17,
          "metadata": {},
          "output_type": "execute_result"
        }
      ],
      "source": [
        "# use 'arange' to generate a 1D array of 12 elements + \n",
        "# reshape that array into a 3x4 2D array\n",
        "np.arange(12).reshape(3,4)"
      ]
    },
    {
      "cell_type": "code",
      "execution_count": null,
      "metadata": {
        "id": "arxqu_avZf8L",
        "outputId": "6e659261-1a2f-4411-c87f-c89ddae20547"
      },
      "outputs": [
        {
          "name": "stdout",
          "output_type": "stream",
          "text": [
            "[[ 0  1  2  3]\n",
            " [ 4  5  6  7]\n",
            " [ 8  9 10 11]]\n",
            "0\n",
            "1\n",
            "2\n",
            "3\n",
            "4\n",
            "5\n",
            "6\n",
            "7\n",
            "8\n",
            "9\n",
            "10\n",
            "11\n"
          ]
        }
      ],
      "source": [
        "# use 'nditer' to automatically iterate through all elements of an array\n",
        "\n",
        "tdata = np.arange(12).reshape(3,4)\n",
        "print(tdata)\n",
        "\n",
        "for x in np.nditer(tdata):\n",
        "    print(x)"
      ]
    },
    {
      "cell_type": "markdown",
      "metadata": {
        "id": "k26oAY9zZf8M"
      },
      "source": [
        "## NumPy matrix Objects: Strictly 2-dimensional !!\n",
        "\n",
        "- A \"matrix\" is a separate type of data object in NumPy.\n",
        "\n",
        "\n",
        "- Unlike arrays, matrices __must__ be 2 dimensions __only__.\n",
        "\n",
        "\n",
        "- NumPy provides special matrix mathematics functionality that works __only__ on NumPy matrix objects.\n",
        "\n",
        "\n",
        "- NumPy __matrix__ objects behave differently than ndarrays when standard arithmetic operations are applied to them.\n",
        "\n",
        "\n",
        "- DO NOT CONFUSE THE TERM __MATRIX MATHEMATICS__ WITH __ARRAY MATHEMATICS__!! They are not the same thing in NumPy!!"
      ]
    },
    {
      "cell_type": "code",
      "execution_count": null,
      "metadata": {
        "id": "_vUru5lIZf8M",
        "outputId": "35d06029-0106-4c5c-faa8-b1c9345bf132"
      },
      "outputs": [
        {
          "data": {
            "text/plain": [
              "matrix([[2, 3],\n",
              "        [3, 5]])"
            ]
          },
          "execution_count": 2,
          "metadata": {},
          "output_type": "execute_result"
        }
      ],
      "source": [
        "# define a matrix using numpy\n",
        "x = np.matrix( ((2,3), (3, 5)) )\n",
        "x"
      ]
    },
    {
      "cell_type": "markdown",
      "metadata": {
        "id": "hVRGxi1pZf8N"
      },
      "source": [
        "## Array Mathematics\n",
        "\n",
        "- In array mathematics, arithmetic standard operators (+, -, \\*, /, \\*\\*, %) are applied __to elements whose positions correspond to one another__ within the two arrays (analagous to __vector mathematics__).\n",
        "\n",
        "\n",
        "- If the arrays are not of the exact same dimension, the arithmetic operation will not work.\n",
        "\n",
        "### Uni-dimensional Array Mathematics (aka \"Vector Mathematics\")"
      ]
    },
    {
      "cell_type": "code",
      "execution_count": null,
      "metadata": {
        "id": "Nt6tU4VJZf8N",
        "outputId": "fcdeb4dd-ef76-4674-84f7-b3bae57f5fd3"
      },
      "outputs": [
        {
          "name": "stdout",
          "output_type": "stream",
          "text": [
            "[1 2 3 4 5]\n"
          ]
        },
        {
          "data": {
            "text/plain": [
              "array([ 6,  8, 10, 12, 14])"
            ]
          },
          "execution_count": 5,
          "metadata": {},
          "output_type": "execute_result"
        }
      ],
      "source": [
        "# 1D math = vector mathematics\n",
        "print(simple)\n",
        "\n",
        "# vector addition\n",
        "simple + np.array([5, 6, 7, 8, 9])"
      ]
    },
    {
      "cell_type": "code",
      "execution_count": null,
      "metadata": {
        "id": "Bu5IjfUaZf8O",
        "outputId": "89803199-fdd3-46e6-d220-4214358a3a21"
      },
      "outputs": [
        {
          "data": {
            "text/plain": [
              "array([4, 4, 4, 4, 4])"
            ]
          },
          "execution_count": 6,
          "metadata": {},
          "output_type": "execute_result"
        }
      ],
      "source": [
        "# vector subtraction\n",
        "np.array([5, 6, 7, 8, 9]) - simple"
      ]
    },
    {
      "cell_type": "code",
      "execution_count": null,
      "metadata": {
        "id": "V-uR5c1jZf8O",
        "outputId": "0e41cffe-fb64-44a9-e349-5af9efb998a1"
      },
      "outputs": [
        {
          "data": {
            "text/plain": [
              "array([ 5, 12, 21, 32, 45])"
            ]
          },
          "execution_count": 22,
          "metadata": {},
          "output_type": "execute_result"
        }
      ],
      "source": [
        "# vector multiplication\n",
        "np.array([5, 6, 7, 8, 9]) * simple"
      ]
    },
    {
      "cell_type": "code",
      "execution_count": null,
      "metadata": {
        "id": "GbUcIdD0Zf8O",
        "outputId": "c1576b2a-9e53-420c-d91f-2b67db7fc5b6"
      },
      "outputs": [
        {
          "data": {
            "text/plain": [
              "array([5.        , 3.        , 2.33333333, 2.        , 1.8       ])"
            ]
          },
          "execution_count": 23,
          "metadata": {},
          "output_type": "execute_result"
        }
      ],
      "source": [
        "# vector division\n",
        "np.array([5, 6, 7, 8, 9]) / simple"
      ]
    },
    {
      "cell_type": "code",
      "execution_count": null,
      "metadata": {
        "id": "wnm02cfsZf8P",
        "outputId": "5aff2227-0979-46fc-aea1-2a0462f9be34"
      },
      "outputs": [
        {
          "data": {
            "text/plain": [
              "array([ 6, 12, 18, 24, 30])"
            ]
          },
          "execution_count": 24,
          "metadata": {},
          "output_type": "execute_result"
        }
      ],
      "source": [
        "# apply a scalar to a 1D array\n",
        "simple * 6"
      ]
    },
    {
      "cell_type": "markdown",
      "metadata": {
        "id": "AJdAWRWeZf8Q"
      },
      "source": [
        "### Multi-dimensional Array Mathematics"
      ]
    },
    {
      "cell_type": "code",
      "execution_count": null,
      "metadata": {
        "id": "bcbWJXHAZf8Q",
        "outputId": "727dc441-7e27-49cf-df01-0f595e041453"
      },
      "outputs": [
        {
          "data": {
            "text/plain": [
              "array([[1., 2., 3.],\n",
              "       [4., 5., 6.]])"
            ]
          },
          "execution_count": 7,
          "metadata": {},
          "output_type": "execute_result"
        }
      ],
      "source": [
        "# define a 2x3 array\n",
        "arr = np.array([[1., 2., 3.], [4., 5., 6.]])\n",
        "arr"
      ]
    },
    {
      "cell_type": "code",
      "execution_count": null,
      "metadata": {
        "id": "9DX2-YdMZf8Q",
        "outputId": "aa8cede7-03a5-497d-f309-459e59fec6de"
      },
      "outputs": [
        {
          "data": {
            "text/plain": [
              "array([[ 1.,  4.,  9.],\n",
              "       [16., 25., 36.]])"
            ]
          },
          "execution_count": 26,
          "metadata": {},
          "output_type": "execute_result"
        }
      ],
      "source": [
        "# multiply each element in the array BY ITS OWN VALUE\n",
        "arr * arr"
      ]
    },
    {
      "cell_type": "markdown",
      "metadata": {
        "id": "qgIAN7SGZf8R"
      },
      "source": [
        "As we can see above, applying the \\* operator to two arrays having the same dimensions results in the elements of the second array being multiplied by their positional counterparts within the first array."
      ]
    },
    {
      "cell_type": "code",
      "execution_count": null,
      "metadata": {
        "id": "Y4skOwdRZf8R",
        "outputId": "74ed9b19-43f3-4bc8-ae5f-95266a4f823f"
      },
      "outputs": [
        {
          "data": {
            "text/plain": [
              "array([[ 2.,  4.,  6.],\n",
              "       [ 8., 10., 12.]])"
            ]
          },
          "execution_count": 8,
          "metadata": {},
          "output_type": "execute_result"
        }
      ],
      "source": [
        "# create a new array by adding the original array to itself\n",
        "arr1 = arr + arr\n",
        "arr1"
      ]
    },
    {
      "cell_type": "code",
      "execution_count": null,
      "metadata": {
        "id": "tkcNqMl9Zf8R",
        "outputId": "53a3fc30-2ac6-428d-f566-ff4e9ef9144e"
      },
      "outputs": [
        {
          "data": {
            "text/plain": [
              "array([[-1., -2., -3.],\n",
              "       [-4., -5., -6.]])"
            ]
          },
          "execution_count": 28,
          "metadata": {},
          "output_type": "execute_result"
        }
      ],
      "source": [
        "# subtract the new array from the original\n",
        "arr - arr1"
      ]
    },
    {
      "cell_type": "code",
      "execution_count": null,
      "metadata": {
        "id": "perTBrm0Zf8S",
        "outputId": "ccb3a02f-136d-4cd2-eba2-f94e1317cf5d"
      },
      "outputs": [
        {
          "data": {
            "text/plain": [
              "array([[1., 2.],\n",
              "       [3., 4.],\n",
              "       [5., 6.]])"
            ]
          },
          "execution_count": 9,
          "metadata": {},
          "output_type": "execute_result"
        }
      ],
      "source": [
        "# now create a 3x2 array\n",
        "arr2 = np.array([[1., 2.], [3., 4.], [5., 6.]])\n",
        "arr2"
      ]
    },
    {
      "cell_type": "code",
      "execution_count": null,
      "metadata": {
        "id": "ut9PHOCKZf8S",
        "outputId": "4fc5327b-35d6-45a1-c712-9a33ebbe4b42"
      },
      "outputs": [
        {
          "ename": "ValueError",
          "evalue": "operands could not be broadcast together with shapes (2,3) (3,2) ",
          "output_type": "error",
          "traceback": [
            "\u001b[1;31m---------------------------------------------------------------------------\u001b[0m",
            "\u001b[1;31mValueError\u001b[0m                                Traceback (most recent call last)",
            "\u001b[1;32m<ipython-input-30-241f0a7ea52d>\u001b[0m in \u001b[0;36m<module>\u001b[1;34m\u001b[0m\n\u001b[0;32m      1\u001b[0m \u001b[1;31m# applying an operator to two arrays that are NOT of the same dimension\u001b[0m\u001b[1;33m\u001b[0m\u001b[1;33m\u001b[0m\u001b[1;33m\u001b[0m\u001b[0m\n\u001b[0;32m      2\u001b[0m \u001b[1;31m# yields an error message\u001b[0m\u001b[1;33m\u001b[0m\u001b[1;33m\u001b[0m\u001b[1;33m\u001b[0m\u001b[0m\n\u001b[1;32m----> 3\u001b[1;33m \u001b[0marr\u001b[0m \u001b[1;33m+\u001b[0m \u001b[0marr2\u001b[0m\u001b[1;33m\u001b[0m\u001b[1;33m\u001b[0m\u001b[0m\n\u001b[0m",
            "\u001b[1;31mValueError\u001b[0m: operands could not be broadcast together with shapes (2,3) (3,2) "
          ]
        }
      ],
      "source": [
        "# applying an operator to two arrays that are NOT of the same dimension\n",
        "# yields an error message\n",
        "arr + arr2"
      ]
    },
    {
      "cell_type": "code",
      "execution_count": null,
      "metadata": {
        "id": "bxaXvDIMZf8S",
        "outputId": "16756a41-f9d6-46c6-b344-781bea969f24"
      },
      "outputs": [
        {
          "name": "stdout",
          "output_type": "stream",
          "text": [
            "[[ 0.  4.  1.]\n",
            " [ 7.  2. 12.]]\n"
          ]
        },
        {
          "data": {
            "text/plain": [
              "array([[False,  True, False],\n",
              "       [ True, False,  True]])"
            ]
          },
          "execution_count": 10,
          "metadata": {},
          "output_type": "execute_result"
        }
      ],
      "source": [
        "# boolean logic tests can be applied to arrays that are the same size\n",
        "arr3 = np.array([[0., 4., 1.], [7., 2., 12.]])\n",
        "print(arr3)\n",
        "arr3 > arr"
      ]
    },
    {
      "cell_type": "code",
      "execution_count": null,
      "metadata": {
        "id": "Uzv6ma5MZf8T",
        "outputId": "77562bd7-032c-4f07-d15f-524057fac53e"
      },
      "outputs": [
        {
          "data": {
            "text/plain": [
              "array([[1.        , 0.5       , 0.33333333],\n",
              "       [0.25      , 0.2       , 0.16666667]])"
            ]
          },
          "execution_count": 11,
          "metadata": {},
          "output_type": "execute_result"
        }
      ],
      "source": [
        "# divide a constant by each element of an array\n",
        "1 / arr"
      ]
    },
    {
      "cell_type": "code",
      "execution_count": null,
      "metadata": {
        "id": "lu9hmOrCZf8T",
        "outputId": "9fd9fbcd-92c7-431a-983d-645f83c8c351"
      },
      "outputs": [
        {
          "data": {
            "text/plain": [
              "array([[ 5., 10., 15.],\n",
              "       [20., 25., 30.]])"
            ]
          },
          "execution_count": 12,
          "metadata": {},
          "output_type": "execute_result"
        }
      ],
      "source": [
        "# multiple each element of an array by a constant\n",
        "5 * arr"
      ]
    },
    {
      "cell_type": "markdown",
      "metadata": {
        "id": "s4xUbOE8Zf8T"
      },
      "source": [
        "## Matrix Mathematics\n",
        "\n",
        "Unlike array mathematics, if we apply the \\* operator to two square NumPy __matrix__ objects we produce the __dot product__ of the two matrices, __NOT__ the simple positional multiplication we saw above. \n",
        "\n",
        "(see https://www.mathsisfun.com/algebra/matrix-multiplying.html for an explanation of how to compute the dot product)"
      ]
    },
    {
      "cell_type": "code",
      "source": [
        "a = [[1,2],[4,5]]\n",
        "b = [[6,8],[3,2]]\n",
        "print(a@b)"
      ],
      "metadata": {
        "id": "i1EHlofwW705"
      },
      "execution_count": null,
      "outputs": []
    },
    {
      "cell_type": "code",
      "execution_count": null,
      "metadata": {
        "id": "87MGTLpuZf8U",
        "outputId": "5a7df1af-3c6b-4e71-c296-a7d276111513"
      },
      "outputs": [
        {
          "name": "stdout",
          "output_type": "stream",
          "text": [
            "[[2 3]\n",
            " [3 5]]\n",
            "[[ 1  2]\n",
            " [ 5 -1]]\n"
          ]
        },
        {
          "data": {
            "text/plain": [
              "array([[ 2,  6],\n",
              "       [15, -5]])"
            ]
          },
          "execution_count": 13,
          "metadata": {},
          "output_type": "execute_result"
        }
      ],
      "source": [
        "# apply the * operator to two 2x2 ndarrays\n",
        "# the result is analogous to vector mathematics\n",
        "x = np.array( ((2,3), (3, 5)) )\n",
        "print(x)\n",
        "y = np.array( ((1,2), (5, -1)) )\n",
        "print(y)\n",
        "x * y"
      ]
    },
    {
      "cell_type": "code",
      "execution_count": null,
      "metadata": {
        "id": "nV5VHc-zZf8U",
        "outputId": "c44a65dc-a0b8-4926-99ae-585d8761e186"
      },
      "outputs": [
        {
          "name": "stdout",
          "output_type": "stream",
          "text": [
            "[[2 3]\n",
            " [3 5]]\n",
            "[[ 1  2]\n",
            " [ 5 -1]]\n"
          ]
        },
        {
          "data": {
            "text/plain": [
              "matrix([[17,  1],\n",
              "        [28,  1]])"
            ]
          },
          "execution_count": 14,
          "metadata": {},
          "output_type": "execute_result"
        }
      ],
      "source": [
        "# now apply the * operator to two 2x2 MATRICES\n",
        "# the result is the dot product of the matrices\n",
        "x = np.matrix( ((2,3), (3, 5)) )\n",
        "print(x)\n",
        "y = np.matrix( ((1,2), (5, -1)) )\n",
        "print(y)\n",
        "x * y"
      ]
    },
    {
      "cell_type": "markdown",
      "metadata": {
        "id": "qvXq6z6yZf8U"
      },
      "source": [
        "## Indexing & Slicing of ndarray Objects\n",
        "\n",
        "- Similar to how it's done with Python list objects\n",
        "\n",
        "\n",
        "- Indices are __zero based__, meaning they start with 0 and end at 1 digit less than the corresponding array dimension\n",
        "\n",
        "\n",
        "Some Examples:\n"
      ]
    },
    {
      "cell_type": "code",
      "execution_count": null,
      "metadata": {
        "id": "-peUeRriZf8U",
        "outputId": "9ff9c0a1-1709-409f-c9c0-e5e3a63859cc"
      },
      "outputs": [
        {
          "name": "stdout",
          "output_type": "stream",
          "text": [
            "[[ 0.  4.  1.]\n",
            " [ 7.  2. 12.]]\n"
          ]
        }
      ],
      "source": [
        "print(arr3)"
      ]
    },
    {
      "cell_type": "code",
      "execution_count": null,
      "metadata": {
        "id": "9faV4bCxZf8V",
        "outputId": "c28b48fb-4e36-441a-fae1-1f69359c0743"
      },
      "outputs": [
        {
          "data": {
            "text/plain": [
              "array([ 7.,  2., 12.])"
            ]
          },
          "execution_count": 16,
          "metadata": {},
          "output_type": "execute_result"
        }
      ],
      "source": [
        "# get the second row of arr3\n",
        "arr3[1]"
      ]
    },
    {
      "cell_type": "code",
      "execution_count": null,
      "metadata": {
        "id": "byAmAcuyZf8V",
        "outputId": "c0ee3fb1-8df5-4956-dd18-283bff4a9c7e"
      },
      "outputs": [
        {
          "data": {
            "text/plain": [
              "array([0., 7.])"
            ]
          },
          "execution_count": 17,
          "metadata": {},
          "output_type": "execute_result"
        }
      ],
      "source": [
        "# get the first column of arr3\n",
        "arr3[:, 0]"
      ]
    },
    {
      "cell_type": "code",
      "execution_count": null,
      "metadata": {
        "id": "DaPnM9p5Zf8V",
        "outputId": "1122c025-3f46-4420-c776-8331f1a9d9ba"
      },
      "outputs": [
        {
          "name": "stdout",
          "output_type": "stream",
          "text": [
            "12.0\n",
            "12.0\n"
          ]
        }
      ],
      "source": [
        "# equivalent ways of accessing data via an index\n",
        "# get the content of the third column in the second row of the array\n",
        "print(arr3[1][2])\n",
        "print(arr3[1, 2])"
      ]
    },
    {
      "cell_type": "code",
      "execution_count": null,
      "metadata": {
        "id": "iuAESvKhZf8V",
        "outputId": "5f19e7a3-c184-42b6-baa0-abe5cd7508ad"
      },
      "outputs": [
        {
          "name": "stdout",
          "output_type": "stream",
          "text": [
            "[[-0.78837496  0.4196049   0.02168693  0.41523792  1.2478209 ]\n",
            " [ 0.2897301  -0.42972632  1.95534125 -1.24928316 -0.44094488]\n",
            " [ 0.53868387  0.07463815 -1.61606097  0.06512262 -0.49991499]\n",
            " [-0.05861105  0.52470005 -0.79160738  1.03017106 -0.66064693]]\n",
            " \n",
            "[[-0.78837496  0.4196049 ]]\n"
          ]
        }
      ],
      "source": [
        "# use slicing to subset a 2D array\n",
        "# get values of first two columns of first row\n",
        "print(data)\n",
        "print(' ')\n",
        "print(data[:1, :2])"
      ]
    },
    {
      "cell_type": "code",
      "execution_count": null,
      "metadata": {
        "id": "cj0g9-5fZf8W",
        "outputId": "feb58c80-8e8a-489d-9907-5ebdb77e80c7"
      },
      "outputs": [
        {
          "name": "stdout",
          "output_type": "stream",
          "text": [
            "[[-0.42972632  1.95534125 -1.24928316 -0.44094488]\n",
            " [ 0.07463815 -1.61606097  0.06512262 -0.49991499]\n",
            " [ 0.52470005 -0.79160738  1.03017106 -0.66064693]]\n"
          ]
        }
      ],
      "source": [
        "# get 2nd - nth col of all rows except the first row\n",
        "# 'data' is a 4x5 array, so we get cols 2-5 of rows 2-4\n",
        "print(data[1:, 1:])"
      ]
    },
    {
      "cell_type": "code",
      "execution_count": null,
      "metadata": {
        "id": "QiuCmPTcZf8W",
        "outputId": "2c46379a-7e43-4e2e-bffa-ddb5b0b8499e"
      },
      "outputs": [
        {
          "name": "stdout",
          "output_type": "stream",
          "text": [
            "[[-0.42972632  1.95534125 -1.24928316 -0.44094488]\n",
            " [ 0.07463815 -1.61606097  0.06512262 -0.49991499]\n",
            " [ 0.52470005 -0.79160738  1.03017106 -0.66064693]]\n"
          ]
        }
      ],
      "source": [
        "# safely 'bound' the upper ends of a slice by using the row + column dimensions\n",
        "# this subsets everthing EXCEPT the first row and first column\n",
        "# data.shape[0] is the number of rows in the array\n",
        "# data.shape[1] is the number of columns in the array\n",
        "\n",
        "print(data[1:(data.shape[0]), 1:(data.shape[1])])"
      ]
    },
    {
      "cell_type": "markdown",
      "metadata": {
        "id": "2GN0B1ZXZf8W"
      },
      "source": [
        "## Transposing an ndarray Object\n",
        "\n",
        "NumPy has a built-in method for transposing multi-dimensional arrays"
      ]
    },
    {
      "cell_type": "code",
      "execution_count": null,
      "metadata": {
        "id": "SeSBt88QZf8W",
        "outputId": "4e7ebea4-b0ae-4d10-bba9-f6638dcc67a0"
      },
      "outputs": [
        {
          "name": "stdout",
          "output_type": "stream",
          "text": [
            "[[1. 2. 3.]\n",
            " [4. 5. 6.]]\n"
          ]
        },
        {
          "data": {
            "text/plain": [
              "array([[1., 4.],\n",
              "       [2., 5.],\n",
              "       [3., 6.]])"
            ]
          },
          "execution_count": 26,
          "metadata": {},
          "output_type": "execute_result"
        }
      ],
      "source": [
        "# apply the 'T' method to transpose an array\n",
        "print(arr)\n",
        "arr.T"
      ]
    },
    {
      "cell_type": "code",
      "execution_count": null,
      "metadata": {
        "id": "erL5X0sWZf8X",
        "outputId": "a4666092-0cb8-4f49-fd58-3c28de320180"
      },
      "outputs": [
        {
          "name": "stdout",
          "output_type": "stream",
          "text": [
            "[[-0.78837496  0.4196049   0.02168693  0.41523792  1.2478209 ]\n",
            " [ 0.2897301  -0.42972632  1.95534125 -1.24928316 -0.44094488]\n",
            " [ 0.53868387  0.07463815 -1.61606097  0.06512262 -0.49991499]\n",
            " [-0.05861105  0.52470005 -0.79160738  1.03017106 -0.66064693]]\n"
          ]
        },
        {
          "data": {
            "text/plain": [
              "array([[-0.78837496,  0.2897301 ,  0.53868387, -0.05861105],\n",
              "       [ 0.4196049 , -0.42972632,  0.07463815,  0.52470005],\n",
              "       [ 0.02168693,  1.95534125, -1.61606097, -0.79160738],\n",
              "       [ 0.41523792, -1.24928316,  0.06512262,  1.03017106],\n",
              "       [ 1.2478209 , -0.44094488, -0.49991499, -0.66064693]])"
            ]
          },
          "execution_count": 27,
          "metadata": {},
          "output_type": "execute_result"
        }
      ],
      "source": [
        "# another example of transposing an array\n",
        "print(data)\n",
        "data.T"
      ]
    },
    {
      "cell_type": "markdown",
      "metadata": {
        "id": "eK3P0MbZZf8X"
      },
      "source": [
        "## Built-In NumPy Universal Functions ('ufuncs')\n",
        "\n",
        "- Fast, \"vectorized\" functionality that eliminate the need for use of an explicit iterator with a NumPy array object\n",
        "\n",
        "\n",
        "- ufuncs __automatically apply their programming logic to each element of a NumPy array__"
      ]
    },
    {
      "cell_type": "code",
      "execution_count": null,
      "metadata": {
        "id": "MfUPeTMfZf8X",
        "outputId": "b6475e14-d945-4ba6-d7f2-7363ce2cb645"
      },
      "outputs": [
        {
          "name": "stdout",
          "output_type": "stream",
          "text": [
            "[[1. 2. 3.]\n",
            " [4. 5. 6.]]\n"
          ]
        },
        {
          "data": {
            "text/plain": [
              "array([[1.        , 1.41421356, 1.73205081],\n",
              "       [2.        , 2.23606798, 2.44948974]])"
            ]
          },
          "execution_count": 28,
          "metadata": {},
          "output_type": "execute_result"
        }
      ],
      "source": [
        "# get the square root of each element in an array\n",
        "print(arr)\n",
        "np.sqrt(arr)"
      ]
    },
    {
      "cell_type": "code",
      "execution_count": null,
      "metadata": {
        "id": "qqi_kl-_Zf8X",
        "outputId": "4a9d0000-1835-46a6-92ac-7303ae04bc51"
      },
      "outputs": [
        {
          "data": {
            "text/plain": [
              "array([[ 1.,  4.,  9.],\n",
              "       [16., 25., 36.]])"
            ]
          },
          "execution_count": 29,
          "metadata": {},
          "output_type": "execute_result"
        }
      ],
      "source": [
        "# square each element in an array\n",
        "np.square(arr)"
      ]
    },
    {
      "cell_type": "code",
      "execution_count": null,
      "metadata": {
        "id": "FZgxQMNfZf8Y",
        "outputId": "6487a424-9e9b-4d15-d2f1-33dc2b612880"
      },
      "outputs": [
        {
          "name": "stdout",
          "output_type": "stream",
          "text": [
            "[1 2 3 4 5]\n"
          ]
        },
        {
          "data": {
            "text/plain": [
              "array([1, 4, 3, 4, 6])"
            ]
          },
          "execution_count": 30,
          "metadata": {},
          "output_type": "execute_result"
        }
      ],
      "source": [
        "# get maximum value of 2 corresponding array elements\n",
        "print(simple)\n",
        "np.maximum(simple, np.array([0,4,1,3,6]))"
      ]
    },
    {
      "cell_type": "code",
      "execution_count": null,
      "metadata": {
        "id": "ybia6NjMZf8Y",
        "outputId": "c6a16ff7-458a-4daf-a8cc-595fe7edbcc4"
      },
      "outputs": [
        {
          "data": {
            "text/plain": [
              "array([ 1,  6,  4,  7, 11])"
            ]
          },
          "execution_count": 31,
          "metadata": {},
          "output_type": "execute_result"
        }
      ],
      "source": [
        "# add the corresponding elements of 2 same-sized arrays\n",
        "np.add(simple, np.array([0,4,1,3,6]))"
      ]
    },
    {
      "cell_type": "code",
      "execution_count": null,
      "metadata": {
        "id": "Crty2kXvZf8Y",
        "outputId": "241f2514-43bb-437d-d05a-b84e5f50fc3c"
      },
      "outputs": [
        {
          "name": "stdout",
          "output_type": "stream",
          "text": [
            "[[1. 2. 3.]\n",
            " [4. 5. 6.]]\n"
          ]
        },
        {
          "data": {
            "text/plain": [
              "array([ 6., 15.])"
            ]
          },
          "execution_count": 32,
          "metadata": {},
          "output_type": "execute_result"
        }
      ],
      "source": [
        "# sum all rows of a 2d array\n",
        "print(arr)\n",
        "np.sum(arr, axis = 1)"
      ]
    },
    {
      "cell_type": "code",
      "execution_count": null,
      "metadata": {
        "id": "yM7iJkBgZf8Y",
        "outputId": "3dc265dc-3dd6-4af5-e868-4de627c3b2c9"
      },
      "outputs": [
        {
          "data": {
            "text/plain": [
              "array([5., 7., 9.])"
            ]
          },
          "execution_count": 33,
          "metadata": {},
          "output_type": "execute_result"
        }
      ],
      "source": [
        "# sum all columns of a 2D array\n",
        "np.sum(arr, axis = 0)"
      ]
    },
    {
      "cell_type": "markdown",
      "metadata": {
        "id": "_U58xgSiZf8Z"
      },
      "source": [
        "#### NOTE:\n",
        "\n",
        "As shown in the two examples above, in NumPy the \"axis\" values assigned to 'rows' and 'columns' are not very intuitive:\n",
        "\n",
        "- __axis = 1__ refers to the __rows__ of a NumPy array\n",
        "\n",
        "\n",
        "- __axis = 0__ refers to the __columns__. "
      ]
    },
    {
      "cell_type": "markdown",
      "metadata": {
        "id": "rSzmE0ucZf8Z"
      },
      "source": [
        "## Using Conditional Logic in Array Operations\n",
        "\n",
        "NumPy's __where__ ufunc works like a 'where' clause from SQL"
      ]
    },
    {
      "cell_type": "code",
      "execution_count": null,
      "metadata": {
        "id": "bmH_aOP_Zf8Z",
        "outputId": "13c7101e-68bc-4730-a73e-7e0678d04b33"
      },
      "outputs": [
        {
          "name": "stdout",
          "output_type": "stream",
          "text": [
            "[[ 1.59517436  0.31152247 -0.20846376  0.04970647]\n",
            " [ 1.37948183 -1.57865163 -0.04513732 -0.07928546]\n",
            " [-0.61998553  0.07429133 -1.27574604 -0.24140723]\n",
            " [ 0.70759127  0.03734384 -0.47018534 -1.18079426]]\n",
            " \n",
            "[[ True  True False  True]\n",
            " [ True False False False]\n",
            " [False  True False False]\n",
            " [ True  True False False]]\n"
          ]
        },
        {
          "data": {
            "text/plain": [
              "array([[ 2,  2, -2,  2],\n",
              "       [ 2, -2, -2, -2],\n",
              "       [-2,  2, -2, -2],\n",
              "       [ 2,  2, -2, -2]])"
            ]
          },
          "execution_count": 34,
          "metadata": {},
          "output_type": "execute_result"
        }
      ],
      "source": [
        "# generate a 4x4 array filled with values from a normal distribution\n",
        "warr = np.random.randn(4, 4)\n",
        "print(warr)\n",
        "print(' ')\n",
        "print(warr > 0)\n",
        "\n",
        "# replace all positive values with '2', replace all negative values with '-2'\n",
        "np.where(warr > 0, 2, -2)"
      ]
    },
    {
      "cell_type": "markdown",
      "metadata": {
        "id": "Q012xiDgZf8Z"
      },
      "source": [
        "## Math + Stats Methods\n",
        "\n",
        "- Built-in NumPy methods for performing calculations on arrays\n",
        "\n",
        "\n",
        "- Fast and simple to use"
      ]
    },
    {
      "cell_type": "code",
      "execution_count": null,
      "metadata": {
        "id": "fgGGKigNZf8Z",
        "outputId": "db07819e-75b0-4384-c7b4-af9af5793921"
      },
      "outputs": [
        {
          "name": "stdout",
          "output_type": "stream",
          "text": [
            "[[-0.78837496  0.4196049   0.02168693  0.41523792  1.2478209 ]\n",
            " [ 0.2897301  -0.42972632  1.95534125 -1.24928316 -0.44094488]\n",
            " [ 0.53868387  0.07463815 -1.61606097  0.06512262 -0.49991499]\n",
            " [-0.05861105  0.52470005 -0.79160738  1.03017106 -0.66064693]]\n"
          ]
        },
        {
          "data": {
            "text/plain": [
              "0.002378354856203391"
            ]
          },
          "execution_count": 35,
          "metadata": {},
          "output_type": "execute_result"
        }
      ],
      "source": [
        "# calculate the mean of all values in an array\n",
        "print(data)\n",
        "data.mean()"
      ]
    },
    {
      "cell_type": "code",
      "execution_count": null,
      "metadata": {
        "id": "m9KSon8AZf8a",
        "outputId": "e27850a6-1b63-4299-9867-87661933edf7"
      },
      "outputs": [
        {
          "name": "stdout",
          "output_type": "stream",
          "text": [
            "[[ 0.  4.  1.]\n",
            " [ 7.  2. 12.]]\n"
          ]
        },
        {
          "data": {
            "text/plain": [
              "26.0"
            ]
          },
          "execution_count": 36,
          "metadata": {},
          "output_type": "execute_result"
        }
      ],
      "source": [
        "# calculate the sum of all values in an array\n",
        "print(arr3)\n",
        "arr3.sum()"
      ]
    },
    {
      "cell_type": "code",
      "execution_count": null,
      "metadata": {
        "id": "1KseW7sxZf8a",
        "outputId": "d2dc5b00-5865-4482-f67a-730a2adceade"
      },
      "outputs": [
        {
          "name": "stdout",
          "output_type": "stream",
          "text": [
            "[[ 0.  4.  1.]\n",
            " [ 7.  2. 12.]]\n",
            "[[ 0.  1.  4.]\n",
            " [ 2.  7. 12.]]\n"
          ]
        }
      ],
      "source": [
        "# sort an array 'in place': Note that you will lose the original order of\n",
        "# the array UNLESS YOU COPY IT TO A NEW ARRAY\n",
        "\n",
        "# copy array to a new array to preserve original ordering\n",
        "arrsort = np.array(arr3)\n",
        "\n",
        "# sort the new copy of the array\n",
        "arrsort.sort()\n",
        "\n",
        "# display the original array\n",
        "print(arr3)\n",
        "\n",
        "# display the sorted copy\n",
        "print(arrsort)\n"
      ]
    },
    {
      "cell_type": "markdown",
      "metadata": {
        "id": "3dyzH5iLZf8a"
      },
      "source": [
        "## \"Hands On\" Exercises\n",
        "\n",
        "#### 1. Use Python + NumPy to do the following:\n",
        "\n",
        "\n",
        "- Print all numbers between 0 and 99 that are multiples of either 3 or 5.\n",
        "\n",
        "\n",
        "- Calculate and print the sum of all numbers between 0 and 100 that are multiples of either 3 or 5.\n",
        "\n",
        "\n"
      ]
    },
    {
      "cell_type": "code",
      "execution_count": null,
      "metadata": {
        "id": "SMy1CnHvZf8a",
        "outputId": "e144d8e5-4694-453d-ef0d-69af3adfd5d1"
      },
      "outputs": [
        {
          "name": "stdout",
          "output_type": "stream",
          "text": [
            "[0, 3, 5, 6, 9, 10, 12, 15, 18, 20, 21, 24, 25, 27, 30, 33, 35, 36, 39, 40, 42, 45, 48, 50, 51, 54, 55, 57, 60, 63, 65, 66, 69, 70, 72, 75, 78, 80, 81, 84, 85, 87, 90, 93, 95, 96, 99]\n"
          ]
        }
      ],
      "source": [
        "result = [i for i in np.arange(0,100) if i%3 ==0 or i%5 ==0 ]\n",
        "print(result)"
      ]
    },
    {
      "cell_type": "code",
      "execution_count": null,
      "metadata": {
        "id": "4fbu5GJFZf8b",
        "outputId": "546a0b68-4fcb-40c4-ee04-5734a0827534"
      },
      "outputs": [
        {
          "data": {
            "text/plain": [
              "2318"
            ]
          },
          "execution_count": 11,
          "metadata": {},
          "output_type": "execute_result"
        }
      ],
      "source": [
        "np.sum(result)"
      ]
    },
    {
      "cell_type": "code",
      "execution_count": null,
      "metadata": {
        "id": "cRRd4StEZf8b",
        "outputId": "9861f54b-fd57-4989-dc55-cf6670e999a4"
      },
      "outputs": [
        {
          "name": "stdout",
          "output_type": "stream",
          "text": [
            "[ 0  3  5  6  9 10 12 15 18 20 21 24 25 27 30 33 35 36 39 40 42 45 48 50\n",
            " 51 54 55 57 60 63 65 66 69 70 72 75 78 80 81 84 85 87 90 93 95 96 99]\n"
          ]
        }
      ],
      "source": [
        "x = np.arange(0,100)\n",
        "\n",
        "n=x[(x%3==0)|(x%5==0)]\n",
        "\n",
        "print(n)"
      ]
    },
    {
      "cell_type": "code",
      "execution_count": null,
      "metadata": {
        "id": "xLCMiTepZf8f",
        "outputId": "b0eadaa2-9159-41a3-e5de-719894e9c737"
      },
      "outputs": [
        {
          "data": {
            "text/plain": [
              "2318"
            ]
          },
          "execution_count": 13,
          "metadata": {},
          "output_type": "execute_result"
        }
      ],
      "source": [
        "np.sum(n)"
      ]
    },
    {
      "cell_type": "markdown",
      "metadata": {
        "id": "M_KKKAfHZf8f"
      },
      "source": [
        "#### 2. Normalizing Elements of an Array Using \"Standardization\"\n",
        "\n",
        "\n",
        "- Start with this 4x5 array:"
      ]
    },
    {
      "cell_type": "code",
      "execution_count": null,
      "metadata": {
        "id": "WQFJSc-2Zf8f",
        "outputId": "c8bb970f-9c9f-4b88-88bc-1bd032f965ef"
      },
      "outputs": [
        {
          "data": {
            "text/plain": [
              "array([[31, 43, 73, 79, 11],\n",
              "       [54, 69, 56,  7, 32],\n",
              "       [56, 22, 41, 70, 42],\n",
              "       [56, 94, 22, 80, 31]])"
            ]
          },
          "execution_count": 2,
          "metadata": {},
          "output_type": "execute_result"
        }
      ],
      "source": [
        "# create 4x5 array\n",
        "hands_data = np.array([ [31, 43, 73, 79, 11], [54, 69, 56, 7, 32],\n",
        "                      [56, 22, 41, 70, 42], [56, 94, 22, 80, 31] ])\n",
        "hands_data"
      ]
    },
    {
      "cell_type": "markdown",
      "metadata": {
        "id": "blyaFbanZf8g"
      },
      "source": [
        "- For each column of the array calculate the mean and standard deviation of all elements in that column\n",
        "\n",
        "\n",
        "- For each item in the array, calculate the following and store the results in a new array having the same size/shape as the original:\n",
        "\n",
        "    Normalized value = (x - mean(column) ) / standard deviation(column)\n",
        "    \n",
        "    \n",
        "- Verify you result by checking the sum of each column in your new array: all columns should sum to zero\n",
        "\n",
        "\n",
        "### A viable solution is provided below"
      ]
    },
    {
      "cell_type": "code",
      "execution_count": null,
      "metadata": {
        "id": "fMsP6b20Zf8g",
        "outputId": "263b49c8-3827-41fd-80a8-30e2720845b1"
      },
      "outputs": [
        {
          "name": "stdout",
          "output_type": "stream",
          "text": [
            "[49.25 57.   48.   59.   29.  ]\n",
            "[10.56823069 27.08320513 18.80159568 30.27375101 11.24722188]\n"
          ]
        }
      ],
      "source": [
        "# get means of all columns\n",
        "colmeans = np.mean(hands_data, axis = 0)\n",
        "print(colmeans)\n",
        "\n",
        "# get all col stddevs\n",
        "colstddev = np.std(hands_data, axis = 0)\n",
        "print(colstddev)\n"
      ]
    },
    {
      "cell_type": "code",
      "execution_count": null,
      "metadata": {
        "id": "AHCMQ4CdZf8g",
        "outputId": "494b9ea7-9acc-42af-ba10-532d83e7bfe8"
      },
      "outputs": [
        {
          "name": "stdout",
          "output_type": "stream",
          "text": [
            "[[0. 0. 0. 0. 0.]\n",
            " [0. 0. 0. 0. 0.]\n",
            " [0. 0. 0. 0. 0.]\n",
            " [0. 0. 0. 0. 0.]]\n",
            "[[-1.72687373 -0.51692552  1.32967438  0.66063832 -1.60039521]\n",
            " [ 0.44946029  0.44307902  0.4254958  -1.71765963  0.26673253]\n",
            " [ 0.63870672 -1.29231381 -0.37230883  0.36335108  1.15584098]\n",
            " [ 0.63870672  1.36616031 -1.38286135  0.69367024  0.17782169]]\n"
          ]
        }
      ],
      "source": [
        "# create a new 4x5 array of zeroes to house the normalized array\n",
        "normed_arr = np.zeros((4,5))\n",
        "print(normed_arr)\n",
        "\n",
        "# normalize all items in original array\n",
        "# x iterates over the columns; y iterates over the rows\n",
        "for x in range(0, hands_data.shape[1]):\n",
        "    for y in range(0, hands_data.shape[0]):\n",
        "        normed_arr[y][x] = (hands_data[y][x] - colmeans[x]) / colstddev[x]\n",
        "        \n",
        "print(normed_arr)"
      ]
    },
    {
      "cell_type": "code",
      "execution_count": null,
      "metadata": {
        "id": "khKxy9THZf8h",
        "outputId": "9f64eb4c-77bd-4de9-8401-85cf31ac2e22"
      },
      "outputs": [
        {
          "data": {
            "text/plain": [
              "array([ 0.,  0.,  0.,  0., -0.])"
            ]
          },
          "execution_count": 5,
          "metadata": {},
          "output_type": "execute_result"
        }
      ],
      "source": [
        "# VALIDATION OF YOUR CALCULATIONS:\n",
        "# sum the columns of normed_arr to check whether they sum to zero\n",
        "# if they sum to zero, you have successfully normalized the values of the\n",
        "# original array\n",
        "np.round(np.sum(normed_arr, axis = 0))"
      ]
    }
  ],
  "metadata": {
    "kernelspec": {
      "display_name": "Python 3",
      "language": "python",
      "name": "python3"
    },
    "language_info": {
      "codemirror_mode": {
        "name": "ipython",
        "version": 3
      },
      "file_extension": ".py",
      "mimetype": "text/x-python",
      "name": "python",
      "nbconvert_exporter": "python",
      "pygments_lexer": "ipython3",
      "version": "3.7.3"
    },
    "colab": {
      "name": "6 Numpy.ipynb",
      "provenance": []
    }
  },
  "nbformat": 4,
  "nbformat_minor": 0
}