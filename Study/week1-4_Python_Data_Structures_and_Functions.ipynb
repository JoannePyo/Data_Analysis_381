{
  "cells": [
    {
      "cell_type": "markdown",
      "metadata": {
        "id": "Kk6WuH2OY9Vp"
      },
      "source": [
        "# Module 4: Python Data Structures + Functions\n",
        "\n",
        "## Lists, Tuples, Sets & Dictionaries\n",
        "\n",
        "### Lists\n",
        "\n",
        "- As we saw last week, __a list is a collection of data values__, the elements of which may or may not share the same data type.\n",
        "\n",
        "\n",
        "- __Lists are \"mutable\"__, meaning the contents of a list object can be modified and reordered as needed.\n",
        "\n"
      ]
    },
    {
      "cell_type": "code",
      "execution_count": null,
      "metadata": {
        "id": "NfwpxwLrY9Vw",
        "outputId": "28d571ab-e028-490f-e3ef-c00cb0d05738"
      },
      "outputs": [
        {
          "name": "stdout",
          "output_type": "stream",
          "text": [
            "[1, 2, 3, 4, 5, 6, 7, 8, 9, 10]\n"
          ]
        }
      ],
      "source": [
        "# how to create an empty list\n",
        "emptylist = []\n",
        "\n",
        "# example of a list containing data\n",
        "list1 = [1,2,3,4,5]\n",
        "list2 = [6,7,8,9,10]\n",
        "\n",
        "list3 = list1 + list2\n",
        "\n",
        "print(list3)"
      ]
    },
    {
      "cell_type": "code",
      "execution_count": null,
      "metadata": {
        "id": "KN635TFLY9V0",
        "outputId": "77406246-b934-4b84-f6a9-550c4f7d13ae"
      },
      "outputs": [
        {
          "name": "stdout",
          "output_type": "stream",
          "text": [
            "<class 'float'>\n",
            "<class 'str'>\n"
          ]
        }
      ],
      "source": [
        "# example of a list containing mixed data\n",
        "mixedlist = [1, 'far', 3.14159, 'pi']\n",
        "\n",
        "print(type(mixedlist[2]))\n",
        "print(type(mixedlist[3]))"
      ]
    },
    {
      "cell_type": "markdown",
      "metadata": {
        "id": "3l2LrNUoY9V1"
      },
      "source": [
        "### Tuples\n",
        "\n",
        "- Fixed length, immutable sequence of Python objects: content __cannot__ be modified or reordered except when underlying items themselves __are__ mutable.\n",
        "\n",
        "\n",
        "- Can be composed of items of any data type or data structure\n",
        "\n",
        "\n",
        "- As a rule, use parentheses to enclose items when defining a tuple\n",
        "\n",
        "\n",
        "- Best for use with data that should generally not be alterable (e.g., a database key value).\n",
        "\n",
        "\n",
        "- Tuples can be processed faster than lists due to their immutable nature."
      ]
    },
    {
      "cell_type": "code",
      "execution_count": null,
      "metadata": {
        "id": "Ju8QN5yLY9V1",
        "outputId": "afb46d4b-0404-4fcc-d3e8-dad2cd09ad74"
      },
      "outputs": [
        {
          "data": {
            "text/plain": [
              "tuple"
            ]
          },
          "execution_count": 3,
          "metadata": {},
          "output_type": "execute_result"
        }
      ],
      "source": [
        "# define a simple tuple\n",
        "\n",
        "tup1 = (1, 'leg', 2, 'arm', [47, 99])\n",
        "type(tup1)"
      ]
    },
    {
      "cell_type": "code",
      "execution_count": null,
      "metadata": {
        "id": "qN0B9yk1Y9V2",
        "outputId": "39920f85-7408-48b4-f8da-b47d7dd45890"
      },
      "outputs": [
        {
          "name": "stdout",
          "output_type": "stream",
          "text": [
            "[47, 99]\n"
          ]
        }
      ],
      "source": [
        "# access content via 0-based indices\n",
        "\n",
        "print(tup1[4])"
      ]
    },
    {
      "cell_type": "code",
      "execution_count": null,
      "metadata": {
        "id": "ltq9iVPWY9V3",
        "outputId": "e97681c2-7e46-485f-ec19-7e7d0a2604ce"
      },
      "outputs": [
        {
          "name": "stdout",
          "output_type": "stream",
          "text": [
            "(1, 'leg')\n"
          ]
        }
      ],
      "source": [
        "# like lists, tuples can be sliced\n",
        "\n",
        "print(tup1[0:2])"
      ]
    },
    {
      "cell_type": "code",
      "execution_count": null,
      "metadata": {
        "id": "AsfypuxmY9V4",
        "outputId": "aaf4e5ed-a963-4e34-c95a-29c074267af2"
      },
      "outputs": [
        {
          "name": "stdout",
          "output_type": "stream",
          "text": [
            "[33, 99]\n"
          ]
        }
      ],
      "source": [
        "# mutable objects inside a tuple CAN be modified in place\n",
        "tup1[4][0] = 33\n",
        "print(tup1[4])"
      ]
    },
    {
      "cell_type": "markdown",
      "metadata": {
        "id": "QAi9YSeOY9V4"
      },
      "source": [
        "### Sets\n",
        "\n",
        "- A Python __set__ is an unordered set of distinct elements.\n",
        "\n",
        "\n",
        "- Sets allow for use of mathematical set operations, e.g., union, intersection, difference, subset test, superset test, etc.\n",
        "\n",
        "\n",
        "- Contents of a set can be altered, but adding a duplicate of an existing element results in no change to the set.\n",
        "\n",
        "\n",
        "- Sets can be created either by passing a list to the __set()__ function or via curly brackets '{}'. However, for clarity it's best to use the __set()__ function."
      ]
    },
    {
      "cell_type": "code",
      "execution_count": null,
      "metadata": {
        "id": "3CJOBBIlY9V6",
        "outputId": "dabbeee0-4c64-4f8c-f0f4-4923582d85a9"
      },
      "outputs": [
        {
          "data": {
            "text/plain": [
              "{1, 3.14, 'A', 'B', 'K', 'pi'}"
            ]
          },
          "execution_count": 12,
          "metadata": {},
          "output_type": "execute_result"
        }
      ],
      "source": [
        "# 2 ways to define a set\n",
        "set1 = set(['A', 1, 'K', 3.14])\n",
        "\n",
        "set2 = {1, 'B', 'pi', 3.14}\n",
        "\n",
        "# get the union of 2 sets\n",
        "set1.union(set2)"
      ]
    },
    {
      "cell_type": "code",
      "execution_count": null,
      "metadata": {
        "id": "VdBRjqGaY9V6",
        "outputId": "d85cead8-7ac8-4ed2-c06b-93d3f1ca81be"
      },
      "outputs": [
        {
          "data": {
            "text/plain": [
              "{1, 3.14}"
            ]
          },
          "execution_count": 14,
          "metadata": {},
          "output_type": "execute_result"
        }
      ],
      "source": [
        "# get the intersection of 2 sets\n",
        "set1.intersection(set2)"
      ]
    },
    {
      "cell_type": "code",
      "execution_count": null,
      "metadata": {
        "id": "sdTF-iJmY9V7",
        "outputId": "395c68e7-0243-4539-b0c5-6ea97da1048e"
      },
      "outputs": [
        {
          "data": {
            "text/plain": [
              "True"
            ]
          },
          "execution_count": 15,
          "metadata": {},
          "output_type": "execute_result"
        }
      ],
      "source": [
        "# test for subset\n",
        "set3 = {1}\n",
        "\n",
        "set3.issubset(set2)"
      ]
    },
    {
      "cell_type": "code",
      "execution_count": null,
      "metadata": {
        "id": "tqrUqCpOY9V8",
        "outputId": "1cc7d2f8-847b-49f0-ce87-9b4ebe76aa1e"
      },
      "outputs": [
        {
          "data": {
            "text/plain": [
              "True"
            ]
          },
          "execution_count": 16,
          "metadata": {},
          "output_type": "execute_result"
        }
      ],
      "source": [
        "# test for superset\n",
        "set1.issuperset(set3)"
      ]
    },
    {
      "cell_type": "markdown",
      "metadata": {
        "id": "sxYpkOw5Y9V8"
      },
      "source": [
        "### Dictionaries (aka \"dicts\")\n",
        "\n",
        "- dicts are collections of __\"key:value\" pairs__ where both the 'key' and 'value' are themselves Python objects.\n",
        "\n",
        "\n",
        "- Use when you have a set of unique keys that map to values\n",
        "\n",
        "\n",
        "- dicts can provide faster access to data than lists, but are not as easy to work with as lists.\n",
        "\n",
        "\n",
        "- Create a dict using curly brackets {}"
      ]
    },
    {
      "cell_type": "code",
      "execution_count": null,
      "metadata": {
        "id": "Te9q5Y32Y9V9",
        "outputId": "a0a9b6d7-279f-49b4-c1f9-8bdf78a761c3"
      },
      "outputs": [
        {
          "name": "stdout",
          "output_type": "stream",
          "text": [
            "{'name': 'John Doe', 'address': '749 West 42nd St', 'zip': 11001}\n"
          ]
        }
      ],
      "source": [
        "# create a dict object\n",
        "dict1 = {'name': 'John Doe', 'address': '749 West 42nd St', 'zip': 11001}\n",
        "\n",
        "print(dict1)"
      ]
    },
    {
      "cell_type": "code",
      "execution_count": null,
      "metadata": {
        "id": "PXeEnHI8Y9V9",
        "outputId": "d23ae157-5008-461f-abd5-b843f51d6f70"
      },
      "outputs": [
        {
          "data": {
            "text/plain": [
              "'John Doe'"
            ]
          },
          "execution_count": 19,
          "metadata": {},
          "output_type": "execute_result"
        }
      ],
      "source": [
        "# access values by their key\n",
        "dict1['name']"
      ]
    },
    {
      "cell_type": "code",
      "execution_count": null,
      "metadata": {
        "id": "4bB2T9B_Y9V9",
        "outputId": "48b11a58-533b-439b-a225-baa2b9807ffd"
      },
      "outputs": [
        {
          "name": "stdout",
          "output_type": "stream",
          "text": [
            "{'name': 'Jane Smith', 'address': '749 West 42nd St', 'zip': 11001}\n"
          ]
        }
      ],
      "source": [
        "# modify a value in a dict\n",
        "dict1['name'] = 'Jane Smith'\n",
        "print(dict1)"
      ]
    },
    {
      "cell_type": "markdown",
      "metadata": {
        "id": "Vj_POZxfY9V-"
      },
      "source": [
        "## List, Set, Dict Comprehensions & Generators\n",
        "\n",
        "What are 'comprehensions' in Python?\n",
        "\n",
        "From the author of \"A Whirlwind Tour of Python\":\n",
        "\n",
        "*'Comprehensions are simply a way to compress a list-building for-loop into a single short, readable line.'*\n",
        "\n",
        "\n",
        "An example from his book:"
      ]
    },
    {
      "cell_type": "code",
      "execution_count": null,
      "metadata": {
        "id": "eQeMVfRLY9V-",
        "outputId": "043ce21c-686b-4570-fb15-7b00ccd2b4e2"
      },
      "outputs": [
        {
          "data": {
            "text/plain": [
              "[0, 1, 4, 9, 16, 25, 36, 49, 64, 81, 100, 121]"
            ]
          },
          "execution_count": 21,
          "metadata": {},
          "output_type": "execute_result"
        }
      ],
      "source": [
        "# for loop used to build a list\n",
        "L = []\n",
        "for n in range(12):\n",
        "    L.append(n ** 2)\n",
        "L"
      ]
    },
    {
      "cell_type": "code",
      "execution_count": null,
      "metadata": {
        "id": "d9PgUktbY9V_",
        "outputId": "0a7c4a24-f811-463b-a9a8-d4eece680332"
      },
      "outputs": [
        {
          "data": {
            "text/plain": [
              "[0, 1, 4, 9, 16, 25, 36, 49, 64, 81, 100, 121]"
            ]
          },
          "execution_count": 23,
          "metadata": {},
          "output_type": "execute_result"
        }
      ],
      "source": [
        "# and the list comprehension equivalent\n",
        "\n",
        "L = [n ** 2 for n in range(12)]\n",
        "L"
      ]
    },
    {
      "cell_type": "markdown",
      "metadata": {
        "id": "m3mKDOhjY9V_"
      },
      "source": [
        "### Using Conditionals Within a Comprehension\n",
        "\n",
        "What if you need to include an __if__ statement in your loop?"
      ]
    },
    {
      "cell_type": "code",
      "execution_count": null,
      "metadata": {
        "id": "sRnS-UuqY9V_",
        "outputId": "ed42c286-ed62-4a48-e3c4-358dc3aaf77f"
      },
      "outputs": [
        {
          "data": {
            "text/plain": [
              "[1, 2, 4, 5, 7, 8, 10, 11, 13, 14, 16, 17, 19]"
            ]
          },
          "execution_count": 3,
          "metadata": {},
          "output_type": "execute_result"
        }
      ],
      "source": [
        "# for loop with if statement testing the value of the iterator\n",
        "L = []\n",
        "for val in range(20):\n",
        "    if val % 3:\n",
        "        L.append(val)\n",
        "L"
      ]
    },
    {
      "cell_type": "code",
      "execution_count": null,
      "metadata": {
        "id": "QrXXnFEeY9WA",
        "outputId": "b2976716-f885-426d-d1fc-ea7bdda32452"
      },
      "outputs": [
        {
          "data": {
            "text/plain": [
              "[1, 2, 4, 5, 7, 8, 10, 11, 13, 14, 16, 17, 19]"
            ]
          },
          "execution_count": 5,
          "metadata": {},
          "output_type": "execute_result"
        }
      ],
      "source": [
        "# same logic as cell above but using a 1 line comprehension\n",
        "L = [val for val in range(20) if val % 3]\n",
        "L"
      ]
    },
    {
      "cell_type": "markdown",
      "metadata": {
        "id": "5j9-z2j0Y9WA"
      },
      "source": [
        "### Set Comprehensions\n",
        "\n",
        "- Creates a set comprised of iterative values in one line of code\n",
        "\n",
        "\n",
        "- A set comprehension will automatically eliminate any duplicate values generated by the iterator you specify"
      ]
    },
    {
      "cell_type": "code",
      "execution_count": null,
      "metadata": {
        "id": "6v4ZR7T_Y9WA",
        "outputId": "25fb786d-0148-4cfc-aba5-7e2eef48f524"
      },
      "outputs": [
        {
          "data": {
            "text/plain": [
              "{0, 1, 4, 9, 16, 25, 36, 49, 64, 81, 100, 121}"
            ]
          },
          "execution_count": 26,
          "metadata": {},
          "output_type": "execute_result"
        }
      ],
      "source": [
        "# example of a set comprehension: create a set containing the square of\n",
        "# each item within the range of (0,..,11)\n",
        "set5 = {n**2 for n in range(12)}\n",
        "set5"
      ]
    },
    {
      "cell_type": "markdown",
      "metadata": {
        "id": "PWfjKLxyY9WB"
      },
      "source": [
        "### Dict Comprehensions\n",
        "\n",
        "- Automatically create a dict object comprised of iterative values\n"
      ]
    },
    {
      "cell_type": "code",
      "execution_count": null,
      "metadata": {
        "id": "uzC0gvGOY9WB",
        "outputId": "dd0f629e-9097-4bf0-96c9-3ee35ef22ca5"
      },
      "outputs": [
        {
          "data": {
            "text/plain": [
              "{0: 0, 1: 1, 2: 4, 3: 9, 4: 16, 5: 25}"
            ]
          },
          "execution_count": 27,
          "metadata": {},
          "output_type": "execute_result"
        }
      ],
      "source": [
        "# example of a dict comprehension: create a dict wherein the keys are\n",
        "# integers in the range of (0,..,5) and the values are the squares of those\n",
        "# same integers\n",
        "dict5 = {n:n**2 for n in range(6)}\n",
        "dict5"
      ]
    },
    {
      "cell_type": "markdown",
      "metadata": {
        "id": "LalaVYrGY9WB"
      },
      "source": [
        "### Generators\n",
        "\n",
        "- Generators are comprehensions that create an __\"as needed\" iterator__. Sometimes referred to as a \"recipe for producing iterative values\".\n",
        "\n",
        "\n",
        "- Generators save memory space by not requiring you to store every value you want to iterate over.\n",
        "\n",
        "\n",
        "- When you need the next iterative value in your sequence, simply invoke the generator\n",
        "\n",
        "\n",
        "- Downside of generators is they can only be iterated through __once__!! If you need to iterate through the same set of values again, you need to define the generator all over again."
      ]
    },
    {
      "cell_type": "code",
      "execution_count": null,
      "metadata": {
        "id": "Y8HjpxfFY9WC",
        "outputId": "5fb2cb28-804f-46ed-8c1f-107c7e252dd8"
      },
      "outputs": [
        {
          "data": {
            "text/plain": [
              "[0, 1, 4, 9, 16, 25, 36, 49, 64, 81, 100, 121]"
            ]
          },
          "execution_count": 28,
          "metadata": {},
          "output_type": "execute_result"
        }
      ],
      "source": [
        "# define a generator and print its contents\n",
        "G = (n ** 2 for n in range(12))\n",
        "list(G)\n",
        "\n",
        "# after printing the values from the generator G, we have exhausted G \n",
        "# as a generator and cannot use it again without re-declaring it."
      ]
    },
    {
      "cell_type": "code",
      "execution_count": null,
      "metadata": {
        "id": "k5KzwpplY9WC",
        "outputId": "c4171a3b-7164-4e9a-9971-e44a79ed0355"
      },
      "outputs": [
        {
          "name": "stdout",
          "output_type": "stream",
          "text": [
            "0 1 4 9 16 25 36 49 64 81 100 121 "
          ]
        }
      ],
      "source": [
        "# generator 'G' above was used up, so we need to specify a new one\n",
        "G = (n**2 for n in range(12))\n",
        "for val in G:\n",
        "    print(val, end=' ')"
      ]
    },
    {
      "cell_type": "markdown",
      "metadata": {
        "id": "U-2K142SY9WC"
      },
      "source": [
        "## Functions\n",
        "\n",
        "- Functions are the fundamental method of code organization and reuse within the realm of software development.\n",
        "\n",
        "\n",
        "- They provide the developer with a way to encapsulate an algorithm within a reusable, \"callable\" code block.\n",
        "\n",
        "\n",
        "- One of their primary uses is for purposes of avoiding the unneccessary repetition of code within a program. (__DRY!!!__)\n",
        "\n",
        "\n",
        "- Careful use of functions can make your code __much__ more readable + understandable to others.\n",
        "\n",
        "\n",
        "- Functions can be written to accept user-defined 'arguments'. Arguments are simply data values or data structures that you want the function to use as part of its processing.\n",
        "\n",
        "\n",
        "Example of how to define a function (from \"*A Whirlwind Tour of Python*\"):"
      ]
    },
    {
      "cell_type": "code",
      "execution_count": null,
      "metadata": {
        "id": "swLhewgkY9WD"
      },
      "outputs": [],
      "source": [
        "# defining a function that returns the first N fibonacci numbers\n",
        "def fibonacci(N):\n",
        "    L = []\n",
        "    a, b = 0, 1\n",
        "    while len(L) < N:\n",
        "        a, b = b, a + b\n",
        "        L.append(a)\n",
        "    return L"
      ]
    },
    {
      "cell_type": "markdown",
      "metadata": {
        "id": "WGs9_cSTY9WD"
      },
      "source": [
        "Now we have a function named \"fibonacci' that accepts a single argument 'N' where 'N' is the number of fibonacci numbers you want to find, and returns a list of those N fibonacci numbers.\n",
        "\n",
        "Once we've defined a function, we can invoke it within our code:"
      ]
    },
    {
      "cell_type": "code",
      "execution_count": null,
      "metadata": {
        "id": "0KrAyGxxY9WD",
        "outputId": "70506aea-3432-4e98-f191-2ff848a79820"
      },
      "outputs": [
        {
          "data": {
            "text/plain": [
              "[1, 1, 2, 3, 5, 8, 13, 21, 34, 55]"
            ]
          },
          "execution_count": 7,
          "metadata": {},
          "output_type": "execute_result"
        }
      ],
      "source": [
        "# get the first 10 fibonacci numbers\n",
        "fibonacci(10)"
      ]
    },
    {
      "cell_type": "markdown",
      "metadata": {
        "id": "uUmxlm8AY9WD"
      },
      "source": [
        "### Returning Multiple Values From a Function"
      ]
    },
    {
      "cell_type": "code",
      "execution_count": null,
      "metadata": {
        "id": "KakE0IlBY9WE",
        "outputId": "d81f6153-1d64-41a5-fcfa-91e7abe3fec5"
      },
      "outputs": [
        {
          "name": "stdout",
          "output_type": "stream",
          "text": [
            "3 5 7\n"
          ]
        }
      ],
      "source": [
        "# returning multiple values from a function\n",
        "def f():\n",
        "    a = 3\n",
        "    b = 5\n",
        "    c = 7\n",
        "    return(a, b, c)\n",
        "\n",
        "x, y, z = f()\n",
        "\n",
        "print(x, y, z)"
      ]
    },
    {
      "cell_type": "code",
      "execution_count": null,
      "metadata": {
        "id": "RjpLuVaFY9WE",
        "outputId": "291697dd-0111-42ac-a2d9-f081053f582f"
      },
      "outputs": [
        {
          "name": "stdout",
          "output_type": "stream",
          "text": [
            "(3, 5, 7)\n",
            "5\n"
          ]
        }
      ],
      "source": [
        "# multiple return values are actually returned as a tuple\n",
        "ftup = f()\n",
        "print(ftup)\n",
        "\n",
        "# access the tuple item having an integer index value of 1\n",
        "print(ftup[1])"
      ]
    },
    {
      "cell_type": "markdown",
      "metadata": {
        "id": "QLYUht0EY9WF"
      },
      "source": [
        "### Default Values for Function Arguments\n",
        "\n",
        "- You can specify a default value for any function argument\n",
        "\n",
        "\n",
        "- Allows the function to be invoked without any explicit arguments"
      ]
    },
    {
      "cell_type": "code",
      "execution_count": null,
      "metadata": {
        "id": "zlJ7X0LtY9WF",
        "outputId": "4abc3fac-d452-43fb-9875-e37a6113439b"
      },
      "outputs": [
        {
          "data": {
            "text/plain": [
              "[1, 1, 2]"
            ]
          },
          "execution_count": 3,
          "metadata": {},
          "output_type": "execute_result"
        }
      ],
      "source": [
        "# Set N=3 as default value if no value is passed in\n",
        "def fibonacci_wd(N = 3):\n",
        "    L = []\n",
        "    a, b = 0, 1\n",
        "    while len(L) < N:\n",
        "        a, b = b, a + b\n",
        "        L.append(a)\n",
        "    return L\n",
        "\n",
        "fibonacci_wd()"
      ]
    },
    {
      "cell_type": "markdown",
      "metadata": {
        "id": "d8d7An9OY9WF"
      },
      "source": [
        "### Doc Strings\n",
        "\n",
        "- A 'doc string' is simply __an extended comment provided at the beginning of a function that explains the purpose + functionality of the function__.\n",
        "\n",
        "\n",
        "- The doc string for a function is displayed for introspection purposes when requested by a user (see example below)\n",
        "\n",
        "\n",
        "- Get in the habit of providing a doc string for each function you write !!\n",
        "\n",
        "\n",
        "- An example:"
      ]
    },
    {
      "cell_type": "code",
      "execution_count": null,
      "metadata": {
        "id": "Q1WP2brkY9WF",
        "outputId": "3ef21a59-6140-401f-bab1-a8e9634bd36f"
      },
      "outputs": [
        {
          "data": {
            "text/plain": [
              "[1, 1, 2]"
            ]
          },
          "execution_count": 10,
          "metadata": {},
          "output_type": "execute_result"
        }
      ],
      "source": [
        "# Set N=3 as default value if no value is passed in\n",
        "def fibonacci_wd(N = 3):\n",
        "    '''this function finds the first N fibonacci numbers\n",
        "    - if no value for N is provided, N is defaulted to the value of 3\n",
        "    - The function generates a list of integers which is returned to the\n",
        "    - user. '''\n",
        "    \n",
        "    L = []\n",
        "    a, b = 0, 1\n",
        "    while len(L) < N:\n",
        "        a, b = b, a + b\n",
        "        L.append(a)\n",
        "    return L\n",
        "\n",
        "fibonacci_wd()"
      ]
    },
    {
      "cell_type": "code",
      "execution_count": null,
      "metadata": {
        "id": "ET9O4lSPY9WG"
      },
      "outputs": [],
      "source": [
        "# display the docstring via introspection\n",
        "fibonacci_wd?"
      ]
    },
    {
      "cell_type": "markdown",
      "metadata": {
        "id": "CAjYuUoAY9WG"
      },
      "source": [
        "### \"Anonymous\", aka \"lambda\" Functions\n",
        "\n",
        "- Short, single-line functions defined via Python's __lambda__ statement.\n",
        "\n",
        "\n",
        "- Sometimes can make code more readable, sometimes not\n",
        "\n",
        "\n",
        "- Why use them? Readability OR if you want to pass a simple function as a parameter to a function you've written. \n",
        "\n",
        "\n",
        "- See \"*A Whirlwind Tour of Python*\" for a good example of using a lambda function to help sort the contents of a __dict__ object."
      ]
    },
    {
      "cell_type": "code",
      "execution_count": null,
      "metadata": {
        "id": "E5IBC1xhY9WG",
        "outputId": "b5c24b31-74cd-42cd-f8b6-e49f40995709"
      },
      "outputs": [
        {
          "data": {
            "text/plain": [
              "3"
            ]
          },
          "execution_count": 12,
          "metadata": {},
          "output_type": "execute_result"
        }
      ],
      "source": [
        "# simple lambda function\n",
        "add = lambda x, y: x + y\n",
        "add(1, 2)"
      ]
    },
    {
      "cell_type": "code",
      "execution_count": null,
      "metadata": {
        "id": "LtlkEBiaY9WG"
      },
      "outputs": [],
      "source": [
        "# lambda function shown above is equivalent of this:\n",
        "def add(x, y):\n",
        "    return x + y"
      ]
    },
    {
      "cell_type": "markdown",
      "metadata": {
        "id": "meVmnkURY9WG"
      },
      "source": [
        "Example from \"*A Whirlwind Tour of Python*\"\n",
        "\n",
        "https://nbviewer.jupyter.org/github/jakevdp/WhirlwindTourOfPython/blob/master/08-Defining-Functions.ipynb"
      ]
    },
    {
      "cell_type": "markdown",
      "metadata": {
        "id": "VwWxOHpNY9WH"
      },
      "source": [
        "### \"Hands On\" Exercises\n",
        "\n",
        "#### Part 1\n",
        "\n",
        "Write a function that determine whether or not a driver has been speeding. The function should have a single argument: the speed they were driving (we'll assume it's in KM per hour, not miles per hour).\n",
        "\n",
        "- If their speed is less than 70km per hr, return a value of 'OK'\n",
        "\n",
        "\n",
        "- If their speed is greater than 70km per hr, for every 5km above the speed limit(70), the driver earns 1 demerit point. Return the total number of demerit points in the form of a string, e.g., if the driver's speed was 85km per hr, return \"Points: 3\"\n",
        "\n",
        "\n",
        "- If the total number of demerit points exceeds 6, the function should return \"License Suspended\""
      ]
    },
    {
      "cell_type": "markdown",
      "metadata": {
        "id": "Pf0193PSY9WH"
      },
      "source": [
        "#### Part 2\n",
        "\n",
        "Write a function that tests whether a number is a prime number. It should accept one argument: the number you are testing. It should return a Boolean value indicating whether or not the number is a prime number."
      ]
    }
  ],
  "metadata": {
    "kernelspec": {
      "display_name": "Python 3",
      "language": "python",
      "name": "python3"
    },
    "language_info": {
      "codemirror_mode": {
        "name": "ipython",
        "version": 3
      },
      "file_extension": ".py",
      "mimetype": "text/x-python",
      "name": "python",
      "nbconvert_exporter": "python",
      "pygments_lexer": "ipython3",
      "version": "3.7.3"
    },
    "colab": {
      "name": "4 Python Data Structures and Functions.ipynb",
      "provenance": []
    }
  },
  "nbformat": 4,
  "nbformat_minor": 0
}