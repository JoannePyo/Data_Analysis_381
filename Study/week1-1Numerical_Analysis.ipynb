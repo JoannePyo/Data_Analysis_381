{
  "nbformat": 4,
  "nbformat_minor": 0,
  "metadata": {
    "colab": {
      "name": "Numerical Analysis.ipynb",
      "provenance": []
    },
    "kernelspec": {
      "name": "python3",
      "display_name": "Python 3"
    }
  },
  "cells": [
    {
      "cell_type": "markdown",
      "metadata": {
        "id": "S81K8iBtKv2f"
      },
      "source": [
        "Necessary Computer Error"
      ]
    },
    {
      "cell_type": "code",
      "metadata": {
        "colab": {
          "base_uri": "https://localhost:8080/"
        },
        "id": "fJs4t_LgKq41",
        "outputId": "f881cdc2-60ee-4157-c000-cca0b19a0b13"
      },
      "source": [
        "#the last one is incorrectly false to do computer representation\n",
        "print(1+1+1 == 3)\n",
        "print(.1+.1== .2)\n",
        "print(.1+.1+.1==.3)"
      ],
      "execution_count": null,
      "outputs": [
        {
          "output_type": "stream",
          "text": [
            "True\n",
            "True\n",
            "False\n"
          ],
          "name": "stdout"
        }
      ]
    },
    {
      "cell_type": "markdown",
      "metadata": {
        "id": "p-5AM1_BLXHW"
      },
      "source": [
        "Test the series 1/3+1/9+1/27+... = .5\n",
        "Why? Because an infinite series for a = 1/3 for 1+1/3+1/9+... = 1/(1-a).\n",
        "\n",
        "Note: We are starting with (1/3) and not 1.\n",
        "\n",
        "For representations of power 2 we get the correct answer, for representation of of power 3 we get an approximation."
      ]
    },
    {
      "cell_type": "code",
      "metadata": {
        "colab": {
          "base_uri": "https://localhost:8080/"
        },
        "id": "bWLHb5SMLWMG",
        "outputId": "b26d3370-a811-4406-a187-a298e8d360a8"
      },
      "source": [
        "N = 1000\n",
        "sum = 0\n",
        "\n",
        "#test powers of 2 \n",
        "for i in range(1,N):\n",
        "  sum = sum + (1/2**i)\n",
        "print(\"For powers of 2 we get: \", sum)\n",
        "\n",
        "#test powers of 3\n",
        "sum = 0\n",
        "for i in range(1,N):\n",
        "  sum = sum + (1/3**i)\n",
        "print(\"For powers of 3 we get: \",sum)"
      ],
      "execution_count": null,
      "outputs": [
        {
          "output_type": "stream",
          "text": [
            "For powers of 2 we get:  1.0\n",
            "For powers of 3 we get:  0.49999999999999983\n"
          ],
          "name": "stdout"
        }
      ]
    },
    {
      "cell_type": "code",
      "metadata": {
        "colab": {
          "base_uri": "https://localhost:8080/"
        },
        "id": "gXK603UiYvL8",
        "outputId": "609d1bcd-8989-471e-cb38-8dffaeb34970"
      },
      "source": [
        "import struct\n",
        "def float2bin(f):\n",
        "  (d,) = struct.unpack(\">Q\", struct.pack(\">d\", f))\n",
        "  return f'{d:064b}'\n",
        "\n",
        "print(float2bin(10.375))\n",
        "print(float2bin(.1))"
      ],
      "execution_count": null,
      "outputs": [
        {
          "output_type": "stream",
          "name": "stdout",
          "text": [
            "0100000000100100110000000000000000000000000000000000000000000000\n",
            "0011111110111001100110011001100110011001100110011001100110011010\n"
          ]
        }
      ]
    },
    {
      "cell_type": "markdown",
      "metadata": {
        "id": "kuZAZOAhc3Ma"
      },
      "source": [
        "Check below. But how to represent 0,-0, inf, -inf?"
      ]
    },
    {
      "cell_type": "code",
      "metadata": {
        "colab": {
          "base_uri": "https://localhost:8080/"
        },
        "id": "7KauhOmYZupF",
        "outputId": "05d66459-a527-4a53-b137-20f4a15cd1a1"
      },
      "source": [
        "for i in range(0,25):\n",
        "  print(i, \"\\t\",float2bin(i))"
      ],
      "execution_count": null,
      "outputs": [
        {
          "output_type": "stream",
          "text": [
            "0 \t 0000000000000000000000000000000000000000000000000000000000000000\n",
            "1 \t 0011111111110000000000000000000000000000000000000000000000000000\n",
            "2 \t 0100000000000000000000000000000000000000000000000000000000000000\n",
            "3 \t 0100000000001000000000000000000000000000000000000000000000000000\n",
            "4 \t 0100000000010000000000000000000000000000000000000000000000000000\n",
            "5 \t 0100000000010100000000000000000000000000000000000000000000000000\n",
            "6 \t 0100000000011000000000000000000000000000000000000000000000000000\n",
            "7 \t 0100000000011100000000000000000000000000000000000000000000000000\n",
            "8 \t 0100000000100000000000000000000000000000000000000000000000000000\n",
            "9 \t 0100000000100010000000000000000000000000000000000000000000000000\n",
            "10 \t 0100000000100100000000000000000000000000000000000000000000000000\n",
            "11 \t 0100000000100110000000000000000000000000000000000000000000000000\n",
            "12 \t 0100000000101000000000000000000000000000000000000000000000000000\n",
            "13 \t 0100000000101010000000000000000000000000000000000000000000000000\n",
            "14 \t 0100000000101100000000000000000000000000000000000000000000000000\n",
            "15 \t 0100000000101110000000000000000000000000000000000000000000000000\n",
            "16 \t 0100000000110000000000000000000000000000000000000000000000000000\n",
            "17 \t 0100000000110001000000000000000000000000000000000000000000000000\n",
            "18 \t 0100000000110010000000000000000000000000000000000000000000000000\n",
            "19 \t 0100000000110011000000000000000000000000000000000000000000000000\n",
            "20 \t 0100000000110100000000000000000000000000000000000000000000000000\n",
            "21 \t 0100000000110101000000000000000000000000000000000000000000000000\n",
            "22 \t 0100000000110110000000000000000000000000000000000000000000000000\n",
            "23 \t 0100000000110111000000000000000000000000000000000000000000000000\n",
            "24 \t 0100000000111000000000000000000000000000000000000000000000000000\n"
          ],
          "name": "stdout"
        }
      ]
    },
    {
      "cell_type": "code",
      "metadata": {
        "colab": {
          "base_uri": "https://localhost:8080/"
        },
        "id": "4c5dZpOLc811",
        "outputId": "71ab7413-4111-42d4-e6a9-25e11287d651"
      },
      "source": [
        "#bin shows the binary representation\n",
        "#multiplying by 2 is a bit shift\n",
        "\n",
        "for i in range(1,8):\n",
        "  print(i,\"\\t\", bin(i), \"\\t\",i*2,\"\\t\",bin(2*i))\n"
      ],
      "execution_count": null,
      "outputs": [
        {
          "output_type": "stream",
          "text": [
            "1 \t 0b1 \t 2 \t 0b10\n",
            "2 \t 0b10 \t 4 \t 0b100\n",
            "3 \t 0b11 \t 6 \t 0b110\n",
            "4 \t 0b100 \t 8 \t 0b1000\n",
            "5 \t 0b101 \t 10 \t 0b1010\n",
            "6 \t 0b110 \t 12 \t 0b1100\n",
            "7 \t 0b111 \t 14 \t 0b1110\n"
          ],
          "name": "stdout"
        }
      ]
    },
    {
      "cell_type": "markdown",
      "metadata": {
        "id": "JipS2GeXeHYX"
      },
      "source": [
        "Sometimes we have to change the algebraic form in order not to lose information.  "
      ]
    },
    {
      "cell_type": "code",
      "metadata": {
        "colab": {
          "base_uri": "https://localhost:8080/"
        },
        "id": "2OuhKF42eLw6",
        "outputId": "1c454cf4-a71c-424a-ca7a-e8dcb6629867"
      },
      "source": [
        "a=1\n",
        "b=9**12\n",
        "c=-3\n",
        "\n",
        "#x1 looses all information, x2 does not\n",
        "x1=(-b+(b**2-4*a*c)**(0.5))*0.5\n",
        "x2=(-b-(b**2-4*a*c)**(0.5))*0.5\n",
        "print(\"x1=\", x1)\n",
        "print(\"x2=\", x2)\n",
        "\n",
        "#when we change the algebra we don't lose the information \n",
        "#the reason is because we have eliminated subtracted numbers of similar sizes\n",
        "#which we would have lost information due to truncation, rounding, etc.\n",
        "x1_prime=(-2*c)/(b+(b**2-4*a*c)**(0.5))\n",
        "print(\"x1prime=\",x1_prime)"
      ],
      "execution_count": null,
      "outputs": [
        {
          "output_type": "stream",
          "text": [
            "x1= 0.0\n",
            "x2= -282429536481.0\n",
            "x1prime= 1.062211848441645e-11\n"
          ],
          "name": "stdout"
        }
      ]
    },
    {
      "cell_type": "code",
      "metadata": {
        "id": "Mg2HmcdreDPb"
      },
      "source": [
        ""
      ],
      "execution_count": null,
      "outputs": []
    }
  ]
}